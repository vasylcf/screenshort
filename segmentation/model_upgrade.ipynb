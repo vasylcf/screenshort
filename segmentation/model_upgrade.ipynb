{
 "cells": [
  {
   "cell_type": "code",
   "execution_count": 7,
   "metadata": {},
   "outputs": [],
   "source": [
    "from keras_segmentation.models.unet import vgg_unet\n",
    "import numpy as np\n",
    "import matplotlib.pyplot as plt\n",
    "import cv2\n",
    "import pandas as pd\n",
    "import glob\n",
    "import imgaug as ia\n",
    "import imgaug.augmenters as iaa"
   ]
  },
  {
   "cell_type": "code",
   "execution_count": 3,
   "metadata": {},
   "outputs": [
    {
     "data": {
      "text/html": [
       "<div>\n",
       "<style scoped>\n",
       "    .dataframe tbody tr th:only-of-type {\n",
       "        vertical-align: middle;\n",
       "    }\n",
       "\n",
       "    .dataframe tbody tr th {\n",
       "        vertical-align: top;\n",
       "    }\n",
       "\n",
       "    .dataframe thead th {\n",
       "        text-align: right;\n",
       "    }\n",
       "</style>\n",
       "<table border=\"1\" class=\"dataframe\">\n",
       "  <thead>\n",
       "    <tr style=\"text-align: right;\">\n",
       "      <th></th>\n",
       "      <th>bbox_x1</th>\n",
       "      <th>bbox_y1</th>\n",
       "      <th>bbox_x2</th>\n",
       "      <th>bbox_y2</th>\n",
       "      <th>bbox_x3</th>\n",
       "      <th>bbox_y3</th>\n",
       "      <th>bbox_x4</th>\n",
       "      <th>bbox_y4</th>\n",
       "      <th>labels</th>\n",
       "      <th>fname</th>\n",
       "      <th>img_type</th>\n",
       "    </tr>\n",
       "  </thead>\n",
       "  <tbody>\n",
       "    <tr>\n",
       "      <td>0</td>\n",
       "      <td>47</td>\n",
       "      <td>239</td>\n",
       "      <td>1280</td>\n",
       "      <td>273</td>\n",
       "      <td>1280</td>\n",
       "      <td>418</td>\n",
       "      <td>38</td>\n",
       "      <td>377</td>\n",
       "      <td>1</td>\n",
       "      <td>img00.jpg</td>\n",
       "      <td>1</td>\n",
       "    </tr>\n",
       "    <tr>\n",
       "      <td>1</td>\n",
       "      <td>37</td>\n",
       "      <td>400</td>\n",
       "      <td>1280</td>\n",
       "      <td>428</td>\n",
       "      <td>1280</td>\n",
       "      <td>882</td>\n",
       "      <td>26</td>\n",
       "      <td>872</td>\n",
       "      <td>2</td>\n",
       "      <td>img00.jpg</td>\n",
       "      <td>1</td>\n",
       "    </tr>\n",
       "    <tr>\n",
       "      <td>2</td>\n",
       "      <td>353</td>\n",
       "      <td>109</td>\n",
       "      <td>3465</td>\n",
       "      <td>141</td>\n",
       "      <td>3489</td>\n",
       "      <td>481</td>\n",
       "      <td>345</td>\n",
       "      <td>481</td>\n",
       "      <td>1</td>\n",
       "      <td>img01.jpg</td>\n",
       "      <td>1</td>\n",
       "    </tr>\n",
       "    <tr>\n",
       "      <td>3</td>\n",
       "      <td>329</td>\n",
       "      <td>533</td>\n",
       "      <td>3493</td>\n",
       "      <td>521</td>\n",
       "      <td>3569</td>\n",
       "      <td>1633</td>\n",
       "      <td>317</td>\n",
       "      <td>1781</td>\n",
       "      <td>2</td>\n",
       "      <td>img01.jpg</td>\n",
       "      <td>1</td>\n",
       "    </tr>\n",
       "    <tr>\n",
       "      <td>4</td>\n",
       "      <td>121</td>\n",
       "      <td>673</td>\n",
       "      <td>3869</td>\n",
       "      <td>633</td>\n",
       "      <td>3909</td>\n",
       "      <td>1057</td>\n",
       "      <td>105</td>\n",
       "      <td>1117</td>\n",
       "      <td>1</td>\n",
       "      <td>img02.jpg</td>\n",
       "      <td>1</td>\n",
       "    </tr>\n",
       "  </tbody>\n",
       "</table>\n",
       "</div>"
      ],
      "text/plain": [
       "   bbox_x1  bbox_y1  bbox_x2  bbox_y2  bbox_x3  bbox_y3  bbox_x4  bbox_y4  \\\n",
       "0       47      239     1280      273     1280      418       38      377   \n",
       "1       37      400     1280      428     1280      882       26      872   \n",
       "2      353      109     3465      141     3489      481      345      481   \n",
       "3      329      533     3493      521     3569     1633      317     1781   \n",
       "4      121      673     3869      633     3909     1057      105     1117   \n",
       "\n",
       "   labels      fname  img_type  \n",
       "0       1  img00.jpg         1  \n",
       "1       2  img00.jpg         1  \n",
       "2       1  img01.jpg         1  \n",
       "3       2  img01.jpg         1  \n",
       "4       1  img02.jpg         1  "
      ]
     },
     "execution_count": 3,
     "metadata": {},
     "output_type": "execute_result"
    }
   ],
   "source": [
    "data = pd.read_csv('data.csv')\n",
    "data.head()"
   ]
  },
  {
   "cell_type": "code",
   "execution_count": 4,
   "metadata": {},
   "outputs": [],
   "source": [
    "for f in data.fname.unique():\n",
    "    img = cv2.imread('data/'+f)\n",
    "    seg = cv2.imread('annotations/'+f.split('.')[0]+'.png')\n",
    "    img_r = cv2.resize(img, (608,416))\n",
    "    seg_r = cv2.resize(seg, (608,416))\n",
    "    cv2.imwrite('images_train/'+f.split('.')[0]+'.png',img_r)\n",
    "    cv2.imwrite('annotations_train/'+f.split('.')[0]+'.png',seg_r)"
   ]
  },
  {
   "cell_type": "code",
   "execution_count": 5,
   "metadata": {},
   "outputs": [],
   "source": [
    "def augment_seg(img,seg,seq):\n",
    "    aug_det = seq.to_deterministic()\n",
    "    image_aug = aug_det.augment_image(img)\n",
    "    segmap = ia.SegmentationMapOnImage(seg, nb_classes=np.max(seg)+1, shape=img.shape)\n",
    "    segmap_aug = aug_det.augment_segmentation_maps(segmap)\n",
    "    segmap_aug = segmap_aug.get_arr_int()\n",
    "    return image_aug, segmap_aug\n",
    "\n",
    "def augmentation_images(images,annotations):\n",
    "    \"\"\"\n",
    "    images = glob.glob('images_train_2/*.png')\n",
    "    annotations = glob.glob('annotations_train_2/*.png')\n",
    "    \"\"\"\n",
    "    \n",
    "    img_path = images[0].split('/')[0]\n",
    "    annot_path = annotations[0].split('/')[0]\n",
    "    for i,s in zip(images,annotations):\n",
    "    \n",
    "        fname = i.split('/')[-1].split('.')[0]\n",
    "        img = cv2.imread(i)\n",
    "        seg = cv2.imread(s)\n",
    "\n",
    "        for n in range(20):\n",
    "\n",
    "            # crop augmentation\n",
    "            bnds = np.random.randint(5,40,4)\n",
    "            seq_crop = iaa.Sequential([iaa.Crop(px=tuple(bnds))])\n",
    "            img_aug, seg_aug = augment_seg(img,seg,seq_crop)\n",
    "            cv2.imwrite( img_path + '/'+fname+'_crop'+str(n)+'.png',img_aug)\n",
    "            cv2.imwrite(annot_path+'/'+fname+'_crop'+str(n)+'.png',seg_aug)\n",
    "\n",
    "            # rotate augmentation\n",
    "            seq_rotate = iaa.Sequential([iaa.Affine(rotate=(-10,10))])\n",
    "            img_aug, seg_aug = augment_seg(img,seg,seq_rotate)\n",
    "            cv2.imwrite(img_path+'/'+fname+'_rotate'+str(n)+'.png',img_aug)\n",
    "            cv2.imwrite(annot_path+'/'+fname+'_rotate'+str(n)+'.png',seg_aug)\n",
    "\n",
    "            # scale augmentation\n",
    "            seq_scale = iaa.Sequential([iaa.Affine(scale={\"x\": (0.8, 1.2), \"y\": (0.8, 1.2)})])\n",
    "            img_aug, seg_aug = augment_seg(img,seg,seq_scale)\n",
    "            cv2.imwrite(img_path+'/'+fname+'_scale'+str(n)+'.png',img_aug)\n",
    "            cv2.imwrite(annot_path+'/'+fname+'_scale'+str(n)+'.png',seg_aug)\n",
    "\n",
    "            # blur augmentation\n",
    "            seq_blur = iaa.Sequential([iaa.GaussianBlur(sigma=(0, 3.0))])\n",
    "            img_aug, seg_aug = augment_seg(img,seg,seq_blur)\n",
    "            cv2.imwrite(img_path+'/'+fname+'_blur'+str(n)+'.png',img_aug)\n",
    "            cv2.imwrite(annot_path+'/'+fname+'_blur'+str(n)+'.png',seg_aug)"
   ]
  },
  {
   "cell_type": "code",
   "execution_count": 8,
   "metadata": {},
   "outputs": [
    {
     "name": "stderr",
     "output_type": "stream",
     "text": [
      "/home/vasylcf/anaconda3/lib/python3.7/site-packages/imgaug/imgaug.py:182: DeprecationWarning: Function `SegmentationMapOnImage()` is deprecated. Use `SegmentationMapsOnImage` instead. (Note the plural 'Maps' instead of old 'Map'.).\n",
      "  warn_deprecated(msg, stacklevel=3)\n",
      "/home/vasylcf/anaconda3/lib/python3.7/site-packages/imgaug/imgaug.py:107: DeprecationWarning: Providing nb_classes to SegmentationMapsOnImage is no longer necessary and hence deprecated. The argument is ignored and can be safely removed.\n",
      "  warn(msg, category=DeprecationWarning, stacklevel=stacklevel)\n",
      "/home/vasylcf/anaconda3/lib/python3.7/site-packages/imgaug/imgaug.py:182: DeprecationWarning: Method `SegmentationMapsOnImage.get_arr_int()` is deprecated. Use `SegmentationMapsOnImage.get_arr()` instead.\n",
      "  warn_deprecated(msg, stacklevel=3)\n"
     ]
    }
   ],
   "source": [
    "images = glob.glob('images_train/*.png')\n",
    "annotations = glob.glob('annotations_train/*.png')\n",
    "augmentation_images(images,annotations)"
   ]
  },
  {
   "cell_type": "code",
   "execution_count": 9,
   "metadata": {},
   "outputs": [
    {
     "name": "stdout",
     "output_type": "stream",
     "text": [
      "annotations\t       model_upgrade.ipynb\t  test.jpg\r\n",
      "annotations_train      preproc_img_2.ipynb\t  train_augmentation_2.ipynb\r\n",
      "annotation_validation  preproc_img.ipynb\t  train_augmentation.ipynb\r\n",
      "data\t\t       pspnet_50_train.ipynb\t  validation\r\n",
      "data.csv\t       segmentation_3_classes.h5\r\n",
      "images_train\t       test_2.jpg\r\n"
     ]
    }
   ],
   "source": [
    "!ls"
   ]
  },
  {
   "cell_type": "code",
   "execution_count": 10,
   "metadata": {},
   "outputs": [],
   "source": [
    "# create validation dataset\n",
    "!mv images_train/img04*.png validation/\n",
    "!mv images_train/img09*.png validation/\n",
    "!mv annotations_train/img04*.png annotation_validation/\n",
    "!mv annotations_train/img09*.png annotation_validation/"
   ]
  },
  {
   "cell_type": "code",
   "execution_count": 14,
   "metadata": {},
   "outputs": [
    {
     "name": "stdout",
     "output_type": "stream",
     "text": [
      "WARNING:tensorflow:From /home/vasylcf/anaconda3/lib/python3.7/site-packages/tensorflow/python/ops/resource_variable_ops.py:435: colocate_with (from tensorflow.python.framework.ops) is deprecated and will be removed in a future version.\n",
      "Instructions for updating:\n",
      "Colocations handled automatically by placer.\n"
     ]
    }
   ],
   "source": [
    "model = vgg_unet(n_classes=4, input_height=416, input_width=608)"
   ]
  },
  {
   "cell_type": "code",
   "execution_count": 15,
   "metadata": {},
   "outputs": [
    {
     "name": "stderr",
     "output_type": "stream",
     "text": [
      "  2%|▏         | 14/648 [00:00<00:05, 125.96it/s]"
     ]
    },
    {
     "name": "stdout",
     "output_type": "stream",
     "text": [
      "Verifying training dataset\n"
     ]
    },
    {
     "name": "stderr",
     "output_type": "stream",
     "text": [
      "100%|██████████| 648/648 [00:05<00:00, 128.13it/s]\n",
      "  8%|▊         | 13/162 [00:00<00:01, 126.76it/s]"
     ]
    },
    {
     "name": "stdout",
     "output_type": "stream",
     "text": [
      "Dataset verified! \n",
      "Verifying validation dataset\n"
     ]
    },
    {
     "name": "stderr",
     "output_type": "stream",
     "text": [
      "100%|██████████| 162/162 [00:01<00:00, 120.87it/s]\n"
     ]
    },
    {
     "name": "stdout",
     "output_type": "stream",
     "text": [
      "Dataset verified! \n",
      "Starting Epoch  0\n",
      "WARNING:tensorflow:From /home/vasylcf/anaconda3/lib/python3.7/site-packages/tensorflow/python/ops/math_ops.py:3066: to_int32 (from tensorflow.python.ops.math_ops) is deprecated and will be removed in a future version.\n",
      "Instructions for updating:\n",
      "Use tf.cast instead.\n",
      "WARNING:tensorflow:From /home/vasylcf/anaconda3/lib/python3.7/site-packages/tensorflow/python/ops/math_grad.py:102: div (from tensorflow.python.ops.math_ops) is deprecated and will be removed in a future version.\n",
      "Instructions for updating:\n",
      "Deprecated in favor of operator or tf.math.divide.\n",
      "Epoch 1/1\n",
      "512/512 [==============================] - 366s 714ms/step - loss: 0.4096 - accuracy: 0.8579 - val_loss: 0.8528 - val_accuracy: 0.7059\n",
      "Finished Epoch 0\n",
      "Starting Epoch  1\n",
      "Epoch 1/1\n",
      "512/512 [==============================] - 349s 682ms/step - loss: 0.1709 - accuracy: 0.9427 - val_loss: 0.8877 - val_accuracy: 0.7352\n",
      "Finished Epoch 1\n",
      "Starting Epoch  2\n",
      "Epoch 1/1\n",
      "512/512 [==============================] - 333s 650ms/step - loss: 0.0886 - accuracy: 0.9715 - val_loss: 1.8626 - val_accuracy: 0.7068\n",
      "Finished Epoch 2\n",
      "Starting Epoch  3\n",
      "Epoch 1/1\n",
      "512/512 [==============================] - 337s 658ms/step - loss: 0.0505 - accuracy: 0.9845 - val_loss: 1.5329 - val_accuracy: 0.7319\n",
      "Finished Epoch 3\n",
      "Starting Epoch  4\n",
      "Epoch 1/1\n",
      "512/512 [==============================] - 335s 653ms/step - loss: 0.0404 - accuracy: 0.9887 - val_loss: 1.5134 - val_accuracy: 0.7709\n",
      "Finished Epoch 4\n"
     ]
    }
   ],
   "source": [
    "model.train(\n",
    "    train_images =  \"images_train/\",\n",
    "    train_annotations = \"annotations_train/\",\n",
    "    validate = True,\n",
    "    val_images = \"validation/\",\n",
    "    val_annotations = \"annotation_validation/\",\n",
    "    epochs=5\n",
    ")"
   ]
  },
  {
   "cell_type": "code",
   "execution_count": 16,
   "metadata": {},
   "outputs": [],
   "source": [
    "model.save('segm_608_416.h5')"
   ]
  },
  {
   "cell_type": "code",
   "execution_count": 17,
   "metadata": {
    "scrolled": true
   },
   "outputs": [
    {
     "data": {
      "text/plain": [
       "<matplotlib.image.AxesImage at 0x7f36082e1fd0>"
      ]
     },
     "execution_count": 17,
     "metadata": {},
     "output_type": "execute_result"
    },
    {
     "data": {
      "image/png": "[encoded data removed]",
      "text/plain": [
       "<Figure size 864x576 with 2 Axes>"
      ]
     },
     "metadata": {
      "needs_background": "light"
     },
     "output_type": "display_data"
    }
   ],
   "source": [
    "out_1 = model.predict_segmentation(inp=\"images_train/img01.png\")\n",
    "out_2 = model.predict_segmentation(inp=\"images_train/img05.png\")\n",
    "plt.figure(figsize=(12,8))\n",
    "plt.subplot(1,2,1)\n",
    "plt.title('Img_01')\n",
    "plt.imshow(out_1)\n",
    "plt.subplot(1,2,2)\n",
    "plt.title('Img_05')\n",
    "plt.imshow(out_2)"
   ]
  },
  {
   "cell_type": "code",
   "execution_count": 35,
   "metadata": {},
   "outputs": [],
   "source": [
    "for f in ['test_1.jpg', 'test_2.jpg']:\n",
    "    img = cv2.imread('test_img/'+f)\n",
    "    img_r = cv2.resize(img, (608,416))\n",
    "    cv2.imwrite('test_img/'+f.split('.')[0]+'.png',img_r)"
   ]
  },
  {
   "cell_type": "code",
   "execution_count": 36,
   "metadata": {},
   "outputs": [
    {
     "data": {
      "text/plain": [
       "<matplotlib.image.AxesImage at 0x7f36081ebdd8>"
      ]
     },
     "execution_count": 36,
     "metadata": {},
     "output_type": "execute_result"
    },
    {
     "data": {
      "image/png": "[encoded data removed]",
      "text/plain": [
       "<Figure size 864x576 with 2 Axes>"
      ]
     },
     "metadata": {
      "needs_background": "light"
     },
     "output_type": "display_data"
    }
   ],
   "source": [
    "test_1 = model.predict_segmentation(inp=\"test_img/test_1.png\")\n",
    "test_2 = model.predict_segmentation(inp=\"test_img/test_2.png\")\n",
    "plt.figure(figsize=(12,8))\n",
    "plt.subplot(1,2,1)\n",
    "plt.title('Img_01')\n",
    "plt.imshow(test_1)\n",
    "plt.subplot(1,2,2)\n",
    "plt.title('Img_05')\n",
    "plt.imshow(test_2)"
   ]
  },
  {
   "cell_type": "code",
   "execution_count": 37,
   "metadata": {},
   "outputs": [
    {
     "data": {
      "text/plain": [
       "(208, 304)"
      ]
     },
     "execution_count": 37,
     "metadata": {},
     "output_type": "execute_result"
    }
   ],
   "source": [
    "test_1.shape"
   ]
  },
  {
   "cell_type": "code",
   "execution_count": null,
   "metadata": {},
   "outputs": [],
   "source": []
  }
 ],
 "metadata": {
  "kernelspec": {
   "display_name": "Python 3",
   "language": "python",
   "name": "python3"
  },
  "language_info": {
   "codemirror_mode": {
    "name": "ipython",
    "version": 3
   },
   "file_extension": ".py",
   "mimetype": "text/x-python",
   "name": "python",
   "nbconvert_exporter": "python",
   "pygments_lexer": "ipython3",
   "version": "3.7.3"
  }
 },
 "nbformat": 4,
 "nbformat_minor": 2
}
