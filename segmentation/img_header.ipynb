{
 "cells": [
  {
   "cell_type": "code",
   "execution_count": 1,
   "metadata": {},
   "outputs": [],
   "source": [
    "import imghdr\n",
    "import struct"
   ]
  },
  {
   "cell_type": "code",
   "execution_count": 5,
   "metadata": {},
   "outputs": [
    {
     "name": "stdout",
     "output_type": "stream",
     "text": [
      "jpeg\n"
     ]
    }
   ],
   "source": [
    "\n",
    "input_filename='HN7ZE8WQ7K_1.jpg'\n",
    "print(imghdr.what(input_filename))"
   ]
  },
  {
   "cell_type": "code",
   "execution_count": 6,
   "metadata": {},
   "outputs": [],
   "source": [
    "from PIL import Image, ExifTags\n",
    "img = Image.open(input_filename)\n",
    "exif = { ExifTags.TAGS[k]: v for k, v in img._getexif().items() if k in ExifTags.TAGS }"
   ]
  },
  {
   "cell_type": "code",
   "execution_count": 7,
   "metadata": {},
   "outputs": [
    {
     "data": {
      "text/plain": [
       "{'ColorSpace': 1,\n",
       " 'ExifImageWidth': 1280,\n",
       " 'ExifImageHeight': 672,\n",
       " 'ExifOffset': 38,\n",
       " 'Orientation': 1}"
      ]
     },
     "execution_count": 7,
     "metadata": {},
     "output_type": "execute_result"
    }
   ],
   "source": [
    "exif"
   ]
  },
  {
   "cell_type": "code",
   "execution_count": 8,
   "metadata": {},
   "outputs": [],
   "source": [
    "input_filename ='0ZAMXSVHQW_0.jpg'\n",
    "img = Image.open(input_filename)\n",
    "exif = { ExifTags.TAGS[k]: v for k, v in img._getexif().items() if k in ExifTags.TAGS }"
   ]
  },
  {
   "cell_type": "code",
   "execution_count": 9,
   "metadata": {},
   "outputs": [
    {
     "data": {
      "text/plain": [
       "{'ExifVersion': b'0220',\n",
       " 'ShutterSpeedValue': (491, 100),\n",
       " 'ApertureValue': (185, 100),\n",
       " 'DateTimeOriginal': '2019:04:05 20:46:32',\n",
       " 'DateTimeDigitized': '2019:04:05 20:46:32',\n",
       " 'BrightnessValue': (104, 100),\n",
       " 'ExposureBiasValue': (0, 10),\n",
       " 'MaxApertureValue': (185, 100),\n",
       " 'MeteringMode': 2,\n",
       " 'Flash': 0,\n",
       " 'FocalLength': (430, 100),\n",
       " 'ColorSpace': 1,\n",
       " 'ExifImageWidth': 5312,\n",
       " 'FocalLengthIn35mmFilm': 28,\n",
       " 'SceneCaptureType': 0,\n",
       " 'ImageWidth': 5312,\n",
       " 'ExifImageHeight': 2988,\n",
       " 'ImageLength': 2988,\n",
       " 'Make': 'samsung',\n",
       " 'Model': 'SM-G925I',\n",
       " 'Orientation': 1,\n",
       " 'YCbCrPositioning': 1,\n",
       " 'XResolution': (72, 1),\n",
       " 'YResolution': (72, 1),\n",
       " 'ImageUniqueID': 'A16LLIC08SM A16LLJL02GM\\n\\x00\\x00\\x00\\x00\\x00',\n",
       " 'ExposureProgram': 2,\n",
       " 'GPSInfo': {0: b'\\x02\\x02\\x00\\x00',\n",
       "  1: 'N',\n",
       "  2: ((24, 1), (34, 1), (60, 1)),\n",
       "  3: 'E',\n",
       "  4: ((46, 1), (38, 1), (14, 1)),\n",
       "  5: b'\\x01',\n",
       "  6: (0, 1),\n",
       "  7: ((17, 1), (46, 1), (19, 1)),\n",
       "  29: '2019:04:05'},\n",
       " 'ISOSpeedRatings': 160,\n",
       " 'ResolutionUnit': 2,\n",
       " 'ExposureMode': 0,\n",
       " 'FlashPixVersion': b'0100',\n",
       " 'WhiteBalance': 0,\n",
       " 'Software': 'G925IDVS3FQE7',\n",
       " 'DateTime': '2019:04:05 20:46:32',\n",
       " 'ExifOffset': 238,\n",
       " 'MakerNote': b'\\x07\\x00\\x01\\x00\\x07\\x00\\x04\\x00\\x00\\x000100\\x02\\x00\\x04\\x00\\x01\\x00\\x00\\x00\\x00 \\x01\\x00\\x0c\\x00\\x04\\x00\\x01\\x00\\x00\\x00\\x00\\x00\\x00\\x00\\x10\\x00\\x05\\x00\\x01\\x00\\x00\\x00Z\\x00\\x00\\x00@\\x00\\x04\\x00\\x01\\x00\\x00\\x00\\x00\\x00\\x00\\x00P\\x00\\x04\\x00\\x01\\x00\\x00\\x00\\x01\\x00\\x00\\x00\\x00\\x01\\x03\\x00\\x01\\x00\\x00\\x00\\x00\\x00\\x00\\x00\\x00\\x00\\x00\\x00\\x00\\x00\\x00\\x00\\x00\\x00\\x00\\x00',\n",
       " 'UserComment': b'\\x00\\x00\\x00\\x00\\x00\\x00\\x00\\x00\\x00\\x00\\x00\\x00\\x00\\x00\\x00\\x00\\x00\\x00\\x00\\x00\\x00',\n",
       " 'ExposureTime': (1, 30),\n",
       " 'FNumber': (19, 10)}"
      ]
     },
     "execution_count": 9,
     "metadata": {},
     "output_type": "execute_result"
    }
   ],
   "source": [
    "exif"
   ]
  },
  {
   "cell_type": "code",
   "execution_count": null,
   "metadata": {},
   "outputs": [],
   "source": []
  }
 ],
 "metadata": {
  "kernelspec": {
   "display_name": "Python 3",
   "language": "python",
   "name": "python3"
  },
  "language_info": {
   "codemirror_mode": {
    "name": "ipython",
    "version": 3
   },
   "file_extension": ".py",
   "mimetype": "text/x-python",
   "name": "python",
   "nbconvert_exporter": "python",
   "pygments_lexer": "ipython3",
   "version": "3.7.5"
  }
 },
 "nbformat": 4,
 "nbformat_minor": 2
}
