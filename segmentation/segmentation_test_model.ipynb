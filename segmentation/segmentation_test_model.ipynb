{
 "cells": [
  {
   "cell_type": "code",
   "execution_count": 71,
   "metadata": {},
   "outputs": [],
   "source": [
    "from keras_segmentation.models.unet import vgg_unet\n",
    "import numpy as np\n",
    "import matplotlib.pyplot as plt\n",
    "import cv2\n",
    "import pandas as pd\n",
    "import glob\n",
    "import imgaug as ia\n",
    "import imgaug.augmenters as iaa\n",
    "from scipy import stats"
   ]
  },
  {
   "cell_type": "code",
   "execution_count": 2,
   "metadata": {},
   "outputs": [
    {
     "name": "stdout",
     "output_type": "stream",
     "text": [
      "annotations\t\t\t   my_tf_segmentation.ipynb\r\n",
      "annotations_train_2\t\t   preproc_img_2.ipynb\r\n",
      "annotation_validation_2\t\t   preproc_img.ipynb\r\n",
      "border_detect.ipynb\t\t   pspnet_50_train.ipynb\r\n",
      "color_detect.ipynb\t\t   segmentation_mobilenet.ipynb\r\n",
      "color_detect_test.ipynb\t\t   segmentation_test_model.ipynb\r\n",
      "contour_detection_best_prac.ipynb  segm_mob_224_224.h5\r\n",
      "data\t\t\t\t   test_img\r\n",
      "data.csv\t\t\t   train_augmentation_2.ipynb\r\n",
      "images_train_2\t\t\t   train_augmentation.ipynb\r\n",
      "model_upgrade.ipynb\t\t   validation_2\r\n"
     ]
    }
   ],
   "source": [
    "!ls"
   ]
  },
  {
   "cell_type": "code",
   "execution_count": 3,
   "metadata": {},
   "outputs": [
    {
     "data": {
      "text/html": [
       "<div>\n",
       "<style scoped>\n",
       "    .dataframe tbody tr th:only-of-type {\n",
       "        vertical-align: middle;\n",
       "    }\n",
       "\n",
       "    .dataframe tbody tr th {\n",
       "        vertical-align: top;\n",
       "    }\n",
       "\n",
       "    .dataframe thead th {\n",
       "        text-align: right;\n",
       "    }\n",
       "</style>\n",
       "<table border=\"1\" class=\"dataframe\">\n",
       "  <thead>\n",
       "    <tr style=\"text-align: right;\">\n",
       "      <th></th>\n",
       "      <th>bbox_x1</th>\n",
       "      <th>bbox_y1</th>\n",
       "      <th>bbox_x2</th>\n",
       "      <th>bbox_y2</th>\n",
       "      <th>bbox_x3</th>\n",
       "      <th>bbox_y3</th>\n",
       "      <th>bbox_x4</th>\n",
       "      <th>bbox_y4</th>\n",
       "      <th>labels</th>\n",
       "      <th>fname</th>\n",
       "      <th>img_type</th>\n",
       "    </tr>\n",
       "  </thead>\n",
       "  <tbody>\n",
       "    <tr>\n",
       "      <td>0</td>\n",
       "      <td>47</td>\n",
       "      <td>239</td>\n",
       "      <td>1280</td>\n",
       "      <td>273</td>\n",
       "      <td>1280</td>\n",
       "      <td>418</td>\n",
       "      <td>38</td>\n",
       "      <td>377</td>\n",
       "      <td>1</td>\n",
       "      <td>img00.jpg</td>\n",
       "      <td>1</td>\n",
       "    </tr>\n",
       "    <tr>\n",
       "      <td>1</td>\n",
       "      <td>37</td>\n",
       "      <td>400</td>\n",
       "      <td>1280</td>\n",
       "      <td>428</td>\n",
       "      <td>1280</td>\n",
       "      <td>882</td>\n",
       "      <td>26</td>\n",
       "      <td>872</td>\n",
       "      <td>2</td>\n",
       "      <td>img00.jpg</td>\n",
       "      <td>1</td>\n",
       "    </tr>\n",
       "    <tr>\n",
       "      <td>2</td>\n",
       "      <td>353</td>\n",
       "      <td>109</td>\n",
       "      <td>3465</td>\n",
       "      <td>141</td>\n",
       "      <td>3489</td>\n",
       "      <td>481</td>\n",
       "      <td>345</td>\n",
       "      <td>481</td>\n",
       "      <td>1</td>\n",
       "      <td>img01.jpg</td>\n",
       "      <td>1</td>\n",
       "    </tr>\n",
       "    <tr>\n",
       "      <td>3</td>\n",
       "      <td>329</td>\n",
       "      <td>533</td>\n",
       "      <td>3493</td>\n",
       "      <td>521</td>\n",
       "      <td>3569</td>\n",
       "      <td>1633</td>\n",
       "      <td>317</td>\n",
       "      <td>1781</td>\n",
       "      <td>2</td>\n",
       "      <td>img01.jpg</td>\n",
       "      <td>1</td>\n",
       "    </tr>\n",
       "    <tr>\n",
       "      <td>4</td>\n",
       "      <td>121</td>\n",
       "      <td>673</td>\n",
       "      <td>3869</td>\n",
       "      <td>633</td>\n",
       "      <td>3909</td>\n",
       "      <td>1057</td>\n",
       "      <td>105</td>\n",
       "      <td>1117</td>\n",
       "      <td>1</td>\n",
       "      <td>img02.jpg</td>\n",
       "      <td>1</td>\n",
       "    </tr>\n",
       "  </tbody>\n",
       "</table>\n",
       "</div>"
      ],
      "text/plain": [
       "   bbox_x1  bbox_y1  bbox_x2  bbox_y2  bbox_x3  bbox_y3  bbox_x4  bbox_y4  \\\n",
       "0       47      239     1280      273     1280      418       38      377   \n",
       "1       37      400     1280      428     1280      882       26      872   \n",
       "2      353      109     3465      141     3489      481      345      481   \n",
       "3      329      533     3493      521     3569     1633      317     1781   \n",
       "4      121      673     3869      633     3909     1057      105     1117   \n",
       "\n",
       "   labels      fname  img_type  \n",
       "0       1  img00.jpg         1  \n",
       "1       2  img00.jpg         1  \n",
       "2       1  img01.jpg         1  \n",
       "3       2  img01.jpg         1  \n",
       "4       1  img02.jpg         1  "
      ]
     },
     "execution_count": 3,
     "metadata": {},
     "output_type": "execute_result"
    }
   ],
   "source": [
    "data = pd.read_csv('data.csv')\n",
    "data.head()"
   ]
  },
  {
   "cell_type": "code",
   "execution_count": 12,
   "metadata": {},
   "outputs": [],
   "source": [
    "for f in data.fname.unique():\n",
    "    img = cv2.imread('data/'+f)\n",
    "    seg = cv2.imread('annotations/'+f.split('.')[0]+'.png')\n",
    "    img_r = cv2.resize(img, (224,224))\n",
    "    seg_r = cv2.resize(seg, (224,224))\n",
    "    cv2.imwrite('images_train_2/'+f.split('.')[0]+'.png',img_r)\n",
    "    cv2.imwrite('annotations_train_2/'+f.split('.')[0]+'.png',seg_r)"
   ]
  },
  {
   "cell_type": "code",
   "execution_count": 9,
   "metadata": {},
   "outputs": [],
   "source": [
    "def augment_seg(img,seg,seq):\n",
    "    aug_det = seq.to_deterministic()\n",
    "    image_aug = aug_det.augment_image(img)\n",
    "    segmap = ia.SegmentationMapOnImage(seg, nb_classes=np.max(seg)+1, shape=img.shape)\n",
    "    segmap_aug = aug_det.augment_segmentation_maps(segmap)\n",
    "    segmap_aug = segmap_aug.get_arr_int()\n",
    "    return image_aug, segmap_aug\n",
    "\n",
    "def augmentation_images(images,annotations):\n",
    "    \"\"\"\n",
    "    images = glob.glob('images_train_2/*.png')\n",
    "    annotations = glob.glob('annotations_train_2/*.png')\n",
    "    \"\"\"\n",
    "    \n",
    "    img_path = images[0].split('/')[0]\n",
    "    annot_path = annotations[0].split('/')[0]\n",
    "    for i,s in zip(images,annotations):\n",
    "    \n",
    "        fname = i.split('/')[-1].split('.')[0]\n",
    "        img = cv2.imread(i)\n",
    "        seg = cv2.imread(s)\n",
    "\n",
    "        for n in range(20):\n",
    "\n",
    "            # crop augmentation\n",
    "            bnds = np.random.randint(5,40,4)\n",
    "            seq_crop = iaa.Sequential([iaa.Crop(px=tuple(bnds))])\n",
    "            img_aug, seg_aug = augment_seg(img,seg,seq_crop)\n",
    "            cv2.imwrite( img_path + '/'+fname+'_crop'+str(n)+'.png',img_aug)\n",
    "            cv2.imwrite(annot_path+'/'+fname+'_crop'+str(n)+'.png',seg_aug)\n",
    "\n",
    "            # rotate augmentation\n",
    "            seq_rotate = iaa.Sequential([iaa.Affine(rotate=(-10,10))])\n",
    "            img_aug, seg_aug = augment_seg(img,seg,seq_rotate)\n",
    "            cv2.imwrite(img_path+'/'+fname+'_rotate'+str(n)+'.png',img_aug)\n",
    "            cv2.imwrite(annot_path+'/'+fname+'_rotate'+str(n)+'.png',seg_aug)\n",
    "\n",
    "            # scale augmentation\n",
    "            seq_scale = iaa.Sequential([iaa.Affine(scale={\"x\": (0.8, 1.2), \"y\": (0.8, 1.2)})])\n",
    "            img_aug, seg_aug = augment_seg(img,seg,seq_scale)\n",
    "            cv2.imwrite(img_path+'/'+fname+'_scale'+str(n)+'.png',img_aug)\n",
    "            cv2.imwrite(annot_path+'/'+fname+'_scale'+str(n)+'.png',seg_aug)\n",
    "\n",
    "            # blur augmentation\n",
    "            seq_blur = iaa.Sequential([iaa.GaussianBlur(sigma=(0, 3.0))])\n",
    "            img_aug, seg_aug = augment_seg(img,seg,seq_blur)\n",
    "            cv2.imwrite(img_path+'/'+fname+'_blur'+str(n)+'.png',img_aug)\n",
    "            cv2.imwrite(annot_path+'/'+fname+'_blur'+str(n)+'.png',seg_aug)"
   ]
  },
  {
   "cell_type": "code",
   "execution_count": 13,
   "metadata": {},
   "outputs": [
    {
     "name": "stderr",
     "output_type": "stream",
     "text": [
      "/home/vasylcf/anaconda3/lib/python3.7/site-packages/imgaug/imgaug.py:182: DeprecationWarning: Function `SegmentationMapOnImage()` is deprecated. Use `SegmentationMapsOnImage` instead. (Note the plural 'Maps' instead of old 'Map'.).\n",
      "  warn_deprecated(msg, stacklevel=3)\n",
      "/home/vasylcf/anaconda3/lib/python3.7/site-packages/imgaug/imgaug.py:107: DeprecationWarning: Providing nb_classes to SegmentationMapsOnImage is no longer necessary and hence deprecated. The argument is ignored and can be safely removed.\n",
      "  warn(msg, category=DeprecationWarning, stacklevel=stacklevel)\n",
      "/home/vasylcf/anaconda3/lib/python3.7/site-packages/imgaug/imgaug.py:182: DeprecationWarning: Method `SegmentationMapsOnImage.get_arr_int()` is deprecated. Use `SegmentationMapsOnImage.get_arr()` instead.\n",
      "  warn_deprecated(msg, stacklevel=3)\n"
     ]
    }
   ],
   "source": [
    "images = glob.glob('images_train_2/*.png')\n",
    "annotations = glob.glob('annotations_train_2/*.png')\n",
    "augmentation_images(images,annotations)"
   ]
  },
  {
   "cell_type": "code",
   "execution_count": 14,
   "metadata": {},
   "outputs": [],
   "source": [
    "# create validation dataset\n",
    "!mv images_train_2/img04*.png validation_2/\n",
    "!mv images_train_2/img09*.png validation_2/\n",
    "!mv annotations_train_2/img04*.png annotation_validation_2/\n",
    "!mv annotations_train_2/img09*.png annotation_validation_2/"
   ]
  },
  {
   "cell_type": "code",
   "execution_count": null,
   "metadata": {},
   "outputs": [],
   "source": []
  },
  {
   "cell_type": "code",
   "execution_count": 4,
   "metadata": {},
   "outputs": [],
   "source": [
    "from keras_segmentation import models"
   ]
  },
  {
   "cell_type": "code",
   "execution_count": 5,
   "metadata": {},
   "outputs": [],
   "source": [
    "from keras_segmentation.models import unet"
   ]
  },
  {
   "cell_type": "code",
   "execution_count": 6,
   "metadata": {},
   "outputs": [
    {
     "name": "stdout",
     "output_type": "stream",
     "text": [
      "WARNING:tensorflow:From /home/vasylcf/anaconda3/lib/python3.7/site-packages/tensorflow/python/ops/resource_variable_ops.py:435: colocate_with (from tensorflow.python.framework.ops) is deprecated and will be removed in a future version.\n",
      "Instructions for updating:\n",
      "Colocations handled automatically by placer.\n"
     ]
    }
   ],
   "source": [
    "model = unet.mobilenet_unet(n_classes=4, input_height=224, input_width=224)"
   ]
  },
  {
   "cell_type": "code",
   "execution_count": 20,
   "metadata": {},
   "outputs": [
    {
     "name": "stderr",
     "output_type": "stream",
     "text": [
      "  8%|▊         | 55/648 [00:00<00:01, 544.26it/s]"
     ]
    },
    {
     "name": "stdout",
     "output_type": "stream",
     "text": [
      "Verifying training dataset\n"
     ]
    },
    {
     "name": "stderr",
     "output_type": "stream",
     "text": [
      "100%|██████████| 648/648 [00:01<00:00, 537.80it/s]\n",
      " 33%|███▎      | 53/162 [00:00<00:00, 527.39it/s]"
     ]
    },
    {
     "name": "stdout",
     "output_type": "stream",
     "text": [
      "Dataset verified! \n",
      "Verifying validation dataset\n"
     ]
    },
    {
     "name": "stderr",
     "output_type": "stream",
     "text": [
      "100%|██████████| 162/162 [00:00<00:00, 529.06it/s]"
     ]
    },
    {
     "name": "stdout",
     "output_type": "stream",
     "text": [
      "Dataset verified! \n",
      "Starting Epoch  0\n",
      "WARNING:tensorflow:From /home/vasylcf/anaconda3/lib/python3.7/site-packages/tensorflow/python/ops/math_ops.py:3066: to_int32 (from tensorflow.python.ops.math_ops) is deprecated and will be removed in a future version.\n",
      "Instructions for updating:\n",
      "Use tf.cast instead.\n"
     ]
    },
    {
     "name": "stderr",
     "output_type": "stream",
     "text": [
      "\n"
     ]
    },
    {
     "name": "stdout",
     "output_type": "stream",
     "text": [
      "WARNING:tensorflow:From /home/vasylcf/anaconda3/lib/python3.7/site-packages/tensorflow/python/ops/math_grad.py:102: div (from tensorflow.python.ops.math_ops) is deprecated and will be removed in a future version.\n",
      "Instructions for updating:\n",
      "Deprecated in favor of operator or tf.math.divide.\n",
      "Epoch 1/1\n",
      "512/512 [==============================] - 57s 112ms/step - loss: 0.1152 - accuracy: 0.9640 - val_loss: 0.0613 - val_accuracy: 0.9705\n",
      "Finished Epoch 0\n",
      "Starting Epoch  1\n",
      "Epoch 1/1\n",
      "512/512 [==============================] - 51s 100ms/step - loss: 0.0202 - accuracy: 0.9933 - val_loss: 0.0575 - val_accuracy: 0.9739\n",
      "Finished Epoch 1\n",
      "Starting Epoch  2\n",
      "Epoch 1/1\n",
      "512/512 [==============================] - 51s 100ms/step - loss: 0.0130 - accuracy: 0.9955 - val_loss: 0.0610 - val_accuracy: 0.9621\n",
      "Finished Epoch 2\n",
      "Starting Epoch  3\n",
      "Epoch 1/1\n",
      "512/512 [==============================] - 51s 100ms/step - loss: 0.0103 - accuracy: 0.9964 - val_loss: 0.3405 - val_accuracy: 0.9404\n",
      "Finished Epoch 3\n",
      "Starting Epoch  4\n",
      "Epoch 1/1\n",
      "512/512 [==============================] - 51s 100ms/step - loss: 0.0082 - accuracy: 0.9971 - val_loss: 0.0692 - val_accuracy: 0.9686\n",
      "Finished Epoch 4\n"
     ]
    }
   ],
   "source": [
    "# model_2.train(\n",
    "#     train_images =  \"images_train_2/\",\n",
    "#     train_annotations = \"annotations_train_2/\",\n",
    "#     validate = True,\n",
    "#     val_images = \"validation_2/\",\n",
    "#     val_annotations = \"annotation_validation_2/\",\n",
    "#     epochs=5\n",
    "# )"
   ]
  },
  {
   "cell_type": "code",
   "execution_count": 21,
   "metadata": {},
   "outputs": [],
   "source": [
    "#model.save('segm_mob_224_224.h5')"
   ]
  },
  {
   "cell_type": "code",
   "execution_count": 7,
   "metadata": {},
   "outputs": [],
   "source": [
    "model.load_weights('segm_mob_224_224.h5')"
   ]
  },
  {
   "cell_type": "code",
   "execution_count": 8,
   "metadata": {
    "scrolled": true
   },
   "outputs": [
    {
     "data": {
      "text/plain": [
       "<matplotlib.image.AxesImage at 0x7f95bc3de5c0>"
      ]
     },
     "execution_count": 8,
     "metadata": {},
     "output_type": "execute_result"
    },
    {
     "data": {
      "image/png": "[encoded data removed]",
      "text/plain": [
       "<Figure size 864x576 with 2 Axes>"
      ]
     },
     "metadata": {
      "needs_background": "light"
     },
     "output_type": "display_data"
    }
   ],
   "source": [
    "out_1 = model.predict_segmentation(inp=\"images_train_2/img01.png\")\n",
    "out_2 = model.predict_segmentation(inp=\"images_train_2/img05.png\")\n",
    "plt.figure(figsize=(12,8))\n",
    "plt.subplot(1,2,1)\n",
    "plt.title('Img_01')\n",
    "plt.imshow(out_1)\n",
    "plt.subplot(1,2,2)\n",
    "plt.title('Img_05')\n",
    "plt.imshow(out_2)"
   ]
  },
  {
   "cell_type": "code",
   "execution_count": 24,
   "metadata": {},
   "outputs": [],
   "source": [
    "for f in ['test_1.jpg', 'test_2.jpg']:\n",
    "    img = cv2.imread('test_img/'+f)\n",
    "    img_r = cv2.resize(img, (224,224))\n",
    "    cv2.imwrite('test_img/'+'mob_'+f.split('.')[0]+'.png',img_r)"
   ]
  },
  {
   "cell_type": "code",
   "execution_count": 9,
   "metadata": {},
   "outputs": [
    {
     "data": {
      "text/plain": [
       "<matplotlib.image.AxesImage at 0x7f95bc2e2eb8>"
      ]
     },
     "execution_count": 9,
     "metadata": {},
     "output_type": "execute_result"
    },
    {
     "data": {
      "image/png": "[encoded data removed]",
      "text/plain": [
       "<Figure size 864x576 with 2 Axes>"
      ]
     },
     "metadata": {
      "needs_background": "light"
     },
     "output_type": "display_data"
    }
   ],
   "source": [
    "test_1 = model.predict_segmentation(inp=\"test_img/mob_test_1.png\")\n",
    "test_2 = model.predict_segmentation(inp=\"test_img/mob_test_2.png\")\n",
    "plt.figure(figsize=(12,8))\n",
    "plt.subplot(1,2,1)\n",
    "plt.title('test_01')\n",
    "plt.imshow(test_1)\n",
    "plt.subplot(1,2,2)\n",
    "plt.title('test_2')\n",
    "plt.imshow(test_2)"
   ]
  },
  {
   "cell_type": "code",
   "execution_count": 11,
   "metadata": {},
   "outputs": [
    {
     "data": {
      "text/plain": [
       "(112, 112)"
      ]
     },
     "execution_count": 11,
     "metadata": {},
     "output_type": "execute_result"
    }
   ],
   "source": [
    "test_1.shape"
   ]
  },
  {
   "cell_type": "code",
   "execution_count": 10,
   "metadata": {},
   "outputs": [],
   "source": [
    "#out_1, out_2\n",
    "#test_1, test_2"
   ]
  },
  {
   "cell_type": "code",
   "execution_count": 12,
   "metadata": {},
   "outputs": [],
   "source": [
    "def find_segments(mask_img,cls,threshold=10):\n",
    "    segments={}\n",
    "    for cl in cls:\n",
    "        cols = np.sum(mask_img==cl,axis=1)\n",
    "        rows = np.sum(mask_img==cl,axis=0)\n",
    "        col_indecies = np.where(cols>=np.percentile(cols[cols>1],threshold))[0]\n",
    "        row_indecies = np.where(rows>=np.percentile(rows[rows>1],threshold))[0]\n",
    "\n",
    "        x1 = row_indecies[0]\n",
    "        y1 = col_indecies[0]\n",
    "        x2 = row_indecies[-1]\n",
    "        y2 = col_indecies[-1]\n",
    "        \n",
    "        segments[cl] = [(x1,y1),(x2,y2)]\n",
    "    \n",
    "    return segments"
   ]
  },
  {
   "cell_type": "code",
   "execution_count": 99,
   "metadata": {},
   "outputs": [],
   "source": [
    "def find_segments_2(mask_img,cls):\n",
    "    segments={}\n",
    "    for cl in cls:\n",
    "        cols = np.sum(mask_img==cl,axis=1)\n",
    "        rows = np.sum(mask_img==cl,axis=0)\n",
    "        col_indecies = np.where(cols>=np.mean(cols[cols>4])/2)[0]\n",
    "        row_indecies = np.where(rows>=np.mean(rows[rows>4])/2)[0]\n",
    "\n",
    "        x1 = row_indecies[0]\n",
    "        y1 = col_indecies[0]\n",
    "        x2 = row_indecies[-1]\n",
    "        y2 = col_indecies[-1]\n",
    "        \n",
    "        segments[cl] = [(x1,y1),(x2,y2)]\n",
    "    \n",
    "    return segments"
   ]
  },
  {
   "cell_type": "code",
   "execution_count": 100,
   "metadata": {},
   "outputs": [
    {
     "data": {
      "text/plain": [
       "<matplotlib.image.AxesImage at 0x7f94b41786a0>"
      ]
     },
     "execution_count": 100,
     "metadata": {},
     "output_type": "execute_result"
    },
    {
     "data": {
      "image/png": "[encoded data removed]",
      "text/plain": [
       "<Figure size 720x288 with 2 Axes>"
      ]
     },
     "metadata": {
      "needs_background": "light"
     },
     "output_type": "display_data"
    }
   ],
   "source": [
    "plt.figure(figsize=(10,4))\n",
    "segments = find_segments(out_1,[1,2])\n",
    "m = np.zeros(out_1.shape)\n",
    "for s in segments:\n",
    "    cv2.rectangle(m,*segments[s],(255,255,0),3)\n",
    "plt.subplot(1,2,1)\n",
    "plt.title('persentile_10')\n",
    "plt.imshow(m)\n",
    "segments = find_segments_2(out_1,[1,2])\n",
    "m = np.zeros(out_1.shape)\n",
    "for s in segments:\n",
    "    cv2.rectangle(m,*segments[s],(255,255,0),3)\n",
    "\n",
    "plt.subplot(1,2,2)\n",
    "plt.title('mean')\n",
    "plt.imshow(m)"
   ]
  },
  {
   "cell_type": "code",
   "execution_count": 101,
   "metadata": {},
   "outputs": [
    {
     "data": {
      "text/plain": [
       "<matplotlib.image.AxesImage at 0x7f94b44a9390>"
      ]
     },
     "execution_count": 101,
     "metadata": {},
     "output_type": "execute_result"
    },
    {
     "data": {
      "image/png": "[encoded data removed]",
      "text/plain": [
       "<Figure size 720x288 with 2 Axes>"
      ]
     },
     "metadata": {
      "needs_background": "light"
     },
     "output_type": "display_data"
    }
   ],
   "source": [
    "plt.figure(figsize=(10,4))\n",
    "segments = find_segments(out_2,[1,3])\n",
    "m = np.zeros(out_2.shape)\n",
    "for s in segments:\n",
    "    cv2.rectangle(m,*segments[s],(255,255,0),3)\n",
    "plt.subplot(1,2,1)\n",
    "plt.title('persentile_10')\n",
    "plt.imshow(m)\n",
    "segments = find_segments_2(out_2,[1,3])\n",
    "m = np.zeros(out_1.shape)\n",
    "for s in segments:\n",
    "    cv2.rectangle(m,*segments[s],(255,255,0),3)\n",
    "\n",
    "plt.subplot(1,2,2)\n",
    "plt.title('mean')\n",
    "plt.imshow(m)"
   ]
  },
  {
   "cell_type": "code",
   "execution_count": 102,
   "metadata": {},
   "outputs": [
    {
     "data": {
      "text/plain": [
       "<matplotlib.image.AxesImage at 0x7f94b4581f28>"
      ]
     },
     "execution_count": 102,
     "metadata": {},
     "output_type": "execute_result"
    },
    {
     "data": {
      "image/png": "[encoded data removed]",
      "text/plain": [
       "<Figure size 720x288 with 2 Axes>"
      ]
     },
     "metadata": {
      "needs_background": "light"
     },
     "output_type": "display_data"
    }
   ],
   "source": [
    "plt.figure(figsize=(10,4))\n",
    "segments = find_segments(test_1,[1,3])\n",
    "m = np.zeros(out_2.shape)\n",
    "for s in segments:\n",
    "    cv2.rectangle(m,*segments[s],(255,255,0),3)\n",
    "plt.subplot(1,2,1)\n",
    "plt.title('persentile_10')\n",
    "plt.imshow(m)\n",
    "segments = find_segments_2(test_1,[1,3])\n",
    "m = np.zeros(out_1.shape)\n",
    "for s in segments:\n",
    "    cv2.rectangle(m,*segments[s],(255,255,0),3)\n",
    "\n",
    "plt.subplot(1,2,2)\n",
    "plt.title('mean')\n",
    "plt.imshow(m)"
   ]
  },
  {
   "cell_type": "code",
   "execution_count": 103,
   "metadata": {},
   "outputs": [
    {
     "data": {
      "text/plain": [
       "<matplotlib.image.AxesImage at 0x7f94b43a8b00>"
      ]
     },
     "execution_count": 103,
     "metadata": {},
     "output_type": "execute_result"
    },
    {
     "data": {
      "image/png": "[encoded data removed]",
      "text/plain": [
       "<Figure size 720x288 with 2 Axes>"
      ]
     },
     "metadata": {
      "needs_background": "light"
     },
     "output_type": "display_data"
    }
   ],
   "source": [
    "plt.figure(figsize=(10,4))\n",
    "segments = find_segments(test_2,[1,2])\n",
    "m = np.zeros(out_2.shape)\n",
    "for s in segments:\n",
    "    cv2.rectangle(m,*segments[s],(255,255,0),3)\n",
    "plt.subplot(1,2,1)\n",
    "plt.title('persentile_10')\n",
    "plt.imshow(m)\n",
    "segments = find_segments_2(test_2,[1,2])\n",
    "m = np.zeros(out_1.shape)\n",
    "for s in segments:\n",
    "    cv2.rectangle(m,*segments[s],(255,255,0),3)\n",
    "\n",
    "plt.subplot(1,2,2)\n",
    "plt.title('mean')\n",
    "plt.imshow(m)"
   ]
  },
  {
   "cell_type": "code",
   "execution_count": null,
   "metadata": {},
   "outputs": [],
   "source": []
  },
  {
   "cell_type": "code",
   "execution_count": 91,
   "metadata": {},
   "outputs": [
    {
     "data": {
      "text/plain": [
       "(112.0, 0.0)"
      ]
     },
     "execution_count": 91,
     "metadata": {},
     "output_type": "execute_result"
    },
    {
     "data": {
      "image/png": "[encoded data removed]",
      "text/plain": [
       "<Figure size 720x288 with 2 Axes>"
      ]
     },
     "metadata": {
      "needs_background": "light"
     },
     "output_type": "display_data"
    }
   ],
   "source": [
    "plt.figure(figsize=(10,4))\n",
    "plt.subplot(1,2,1)\n",
    "plt.title('Rows hist')\n",
    "plt.axis([0,112,0,112])\n",
    "plt.grid()\n",
    "ax=plt.gca()\n",
    "ax.set_ylim(ax.get_ylim()[::-1])\n",
    "ax.set_aspect('equal')\n",
    "plt.barh(np.arange(1,113),rows,)\n",
    "plt.subplot(1,2,2)\n",
    "plt.title('Columns hist')\n",
    "plt.bar(np.arange(1,113),cols)\n",
    "plt.axis([0,112,0,112])\n",
    "plt.grid()\n",
    "ax=plt.gca()\n",
    "ax.set_aspect('equal')\n",
    "ax.set_ylim(ax.get_ylim()[::-1])"
   ]
  },
  {
   "cell_type": "code",
   "execution_count": null,
   "metadata": {},
   "outputs": [],
   "source": []
  },
  {
   "cell_type": "markdown",
   "metadata": {},
   "source": [
    "## Flow:\n",
    "- contour detection\n",
    "- sort contours by area\n",
    "- select 2 the biggest contours\n",
    "- convert them to rectangles\n",
    "- calc intersection over union"
   ]
  },
  {
   "cell_type": "code",
   "execution_count": 23,
   "metadata": {},
   "outputs": [],
   "source": [
    "RESIZE_WIDTH = 224\n",
    "RESIZE_HEIGHT = 224\n",
    "N_CLASSES_ON_IMAGE = 2"
   ]
  },
  {
   "cell_type": "code",
   "execution_count": 12,
   "metadata": {},
   "outputs": [],
   "source": [
    "def bb_intersection_over_union(boxA, boxB):\n",
    "\t# determine the (x, y)-coordinates of the intersection rectangle\n",
    "\txA = max(boxA[0], boxB[0])\n",
    "\tyA = max(boxA[1], boxB[1])\n",
    "\txB = min(boxA[2], boxB[2])\n",
    "\tyB = min(boxA[3], boxB[3])\n",
    " \n",
    "\t# compute the area of intersection rectangle\n",
    "\tinterArea = max(0, xB - xA + 1) * max(0, yB - yA + 1)\n",
    " \n",
    "\t# compute the area of both the prediction and ground-truth\n",
    "\t# rectangles\n",
    "\tboxAArea = (boxA[2] - boxA[0] + 1) * (boxA[3] - boxA[1] + 1)\n",
    "\tboxBArea = (boxB[2] - boxB[0] + 1) * (boxB[3] - boxB[1] + 1)\n",
    " \n",
    "\t# compute the intersection over union by taking the intersection\n",
    "\t# area and dividing it by the sum of prediction + ground-truth\n",
    "\t# areas - the interesection area\n",
    "\tiou = interArea / float(boxAArea + boxBArea - interArea)\n",
    " \n",
    "\t# return the intersection over union value\n",
    "\treturn iou"
   ]
  },
  {
   "cell_type": "code",
   "execution_count": 54,
   "metadata": {},
   "outputs": [],
   "source": [
    "# crop roi\n",
    "def crop_rect(im,cnt,scaler={'h':1,'w':1}):\n",
    "    res = im[cnt[1]*scaler['h']:(cnt[1]+cnt[3])*scaler['h'],cnt[0]*scaler['w']:(cnt[0]+cnt[2])*scaler['w']]\n",
    "    return res\n",
    "\n",
    "# draw rectangle\n",
    "def draw_rect(cnt):\n",
    "    return (cnt[0],cnt[1]),(cnt[0]+cnt[2],cnt[1]+cnt[3]),(255,255,0),5"
   ]
  },
  {
   "cell_type": "code",
   "execution_count": 62,
   "metadata": {},
   "outputs": [],
   "source": [
    "def predict_segmentation(img):\n",
    "    \n",
    "    cv2.imshow('Raw image',img)\n",
    "    cv2.waitKey(0)\n",
    "    cv2.destroyAllWindows()\n",
    "    \n",
    "    img_resize = cv2.resize(img,(RESIZE_WIDTH, RESIZE_HEIGHT))\n",
    "    \n",
    "    cv2.imshow('resize image',img_resize)\n",
    "    cv2.waitKey(0)\n",
    "    cv2.destroyAllWindows()    \n",
    "    \n",
    "    out = model.predict_segmentation(img_resize)\n",
    "    \n",
    "    temp = np.zeros(out.shape)\n",
    "    \n",
    "    cv2.imshow('mask',(out*50).astype(np.uint8))\n",
    "    cv2.waitKey(0)\n",
    "    cv2.destroyAllWindows()\n",
    "\n",
    "    h_scale = int(np.round(img.shape[0]/out.shape[0],0))\n",
    "    w_scale = int(np.round(img.shape[1]/out.shape[1],0))\n",
    "    scaler={'h': h_scale, 'w':w_scale,}\n",
    "\n",
    "    cnts, _ = cv2.findContours(out*10, cv2.RETR_FLOODFILL,cv2.CHAIN_APPROX_SIMPLE)\n",
    "    cnts = sorted(cnts, key=lambda x: cv2.contourArea(x), reverse=True)\n",
    "    print(f'cnts: {len(cnts)}')\n",
    "    rects = []\n",
    "    k=1\n",
    "    plt.figure(figsize=(12,4))\n",
    "    for c in cnts[:5]:\n",
    "        x,y,w,h = cv2.boundingRect(c)\n",
    "        cv2.rectangle(temp,*draw_rect([x,y,w,h]))\n",
    "        rects.append([x,y,w,h])\n",
    "        plt.subplot(1,5,k)\n",
    "        plt.imshow(temp)\n",
    "        k+=1\n",
    "    \n",
    "    print(f'rects: {len(rects)}')\n",
    "    rects_ed, w = cv2.groupRectangles(rects,1,0.2)\n",
    "\n",
    "    print(f'coordinates: {rects_ed}')\n",
    "\n",
    "    if len(rects_ed)!= N_CLASSES_ON_IMAGE:\n",
    "        #raise IndexError('the number of rectngles do not equal 2')\n",
    "        print('the number of rectngles do not equal 2')\n",
    "\n",
    "    segments = []\n",
    "    # coordinates will save in format [x, y, width, height]\n",
    "    for i in enumerate(rects_ed):\n",
    "        segments.append({'label': i[0], 'data': crop_rect(img, i[1], scaler=scaler), 'coordinates': i[1]})\n",
    "    return segments"
   ]
  },
  {
   "cell_type": "code",
   "execution_count": 63,
   "metadata": {},
   "outputs": [
    {
     "name": "stdout",
     "output_type": "stream",
     "text": [
      "cnts: 30\n",
      "rects: 5\n",
      "coordinates: ()\n",
      "the number of rectngles do not equal 2\n"
     ]
    },
    {
     "data": {
      "image/png": "[encoded data removed]",
      "text/plain": [
       "<Figure size 864x288 with 5 Axes>"
      ]
     },
     "metadata": {
      "needs_background": "light"
     },
     "output_type": "display_data"
    }
   ],
   "source": [
    "img = cv2.imread('test_img/test_1.jpg')\n",
    "segments = predict_segmentation(img)"
   ]
  },
  {
   "cell_type": "code",
   "execution_count": 61,
   "metadata": {},
   "outputs": [
    {
     "name": "stdout",
     "output_type": "stream",
     "text": [
      "cnts: 6\n",
      "rects: 5\n",
      "coordinates: [[  2  46 110  57]\n",
      " [  4  28 109  22]]\n"
     ]
    },
    {
     "data": {
      "image/png": "[encoded data removed]",
      "text/plain": [
       "<Figure size 864x288 with 5 Axes>"
      ]
     },
     "metadata": {
      "needs_background": "light"
     },
     "output_type": "display_data"
    }
   ],
   "source": [
    "#img = cv2.imread('test_img/test_1.jpg')\n",
    "img = cv2.imread('data/img00.jpg')\n",
    "segments = predict_segmentation(img)"
   ]
  },
  {
   "cell_type": "code",
   "execution_count": 31,
   "metadata": {},
   "outputs": [
    {
     "data": {
      "text/plain": [
       "2"
      ]
     },
     "execution_count": 31,
     "metadata": {},
     "output_type": "execute_result"
    }
   ],
   "source": [
    "len(segments)"
   ]
  },
  {
   "cell_type": "code",
   "execution_count": 38,
   "metadata": {},
   "outputs": [
    {
     "data": {
      "text/plain": [
       "<matplotlib.image.AxesImage at 0x7f0c5455fe48>"
      ]
     },
     "execution_count": 38,
     "metadata": {},
     "output_type": "execute_result"
    },
    {
     "data": {
      "image/png": "[encoded data removed]",
      "text/plain": [
       "<Figure size 432x288 with 2 Axes>"
      ]
     },
     "metadata": {
      "needs_background": "light"
     },
     "output_type": "display_data"
    }
   ],
   "source": [
    "plt.subplot(1,2,1)\n",
    "plt.imshow(segments[0]['data'])\n",
    "plt.subplot(1,2,2)\n",
    "plt.imshow(segments[1]['data'])"
   ]
  },
  {
   "cell_type": "code",
   "execution_count": null,
   "metadata": {},
   "outputs": [],
   "source": []
  }
 ],
 "metadata": {
  "kernelspec": {
   "display_name": "Python 3",
   "language": "python",
   "name": "python3"
  },
  "language_info": {
   "codemirror_mode": {
    "name": "ipython",
    "version": 3
   },
   "file_extension": ".py",
   "mimetype": "text/x-python",
   "name": "python",
   "nbconvert_exporter": "python",
   "pygments_lexer": "ipython3",
   "version": "3.7.3"
  }
 },
 "nbformat": 4,
 "nbformat_minor": 2
}
